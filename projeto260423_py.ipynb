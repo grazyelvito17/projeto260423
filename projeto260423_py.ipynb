{
  "nbformat": 4,
  "nbformat_minor": 0,
  "metadata": {
    "colab": {
      "provenance": []
    },
    "kernelspec": {
      "name": "python3",
      "display_name": "Python 3"
    },
    "language_info": {
      "name": "python"
    }
  },
  "cells": [
    {
      "cell_type": "markdown",
      "source": [
        "jogo de pedra, papel e tesoura com o computador"
      ],
      "metadata": {
        "id": "CyzQnuP9UUT8"
      }
    },
    {
      "cell_type": "code",
      "execution_count": null,
      "metadata": {
        "id": "LBp71Ap-TbvQ"
      },
      "outputs": [],
      "source": [
        "from random import randint\n",
        "from time import sleep \n",
        "\n",
        "vitorias = 0 \n",
        "derrotas = 0\n",
        "\n",
        "print('olá, vamos jogar jokepô ? Aqui temos as suas opções: ')\n",
        "\n",
        "# aqui teremos as jogadas possíveis para o jogador\n",
        "\n",
        "while True:  \n",
        "    jogador = int(input(''' \n",
        "    [0] sair\n",
        "    [1] pedra \n",
        "    [2] papel\n",
        "    [3] tesoura\n",
        "    faça sua jogada! '''))\n",
        "\n",
        "    if jogador==0:\n",
        "        print('-=' *8 )\n",
        "        print( 'game over')\n",
        "        print('-=' *8 )\n",
        "        print(f' o placar final foi de {derrotas} derrotas e de vitórias foram de {vitorias} ')\n",
        "      \n",
        "        break\n",
        "   \n",
        "    if jogador!=1 and jogador!=2 and jogador!=3:    \n",
        "        print('\\nopçao inválida. Tente novamente')\n",
        "    else:\n",
        "        # em seguida definimos os itens que teremos e as jogadas do computador\n",
        "        user = ['pedra','papel', 'tesoura']\n",
        "        pc = randint(1,3)\n",
        "\n",
        "        print('jo')\n",
        "        sleep(1)\n",
        "        print('ken')\n",
        "        sleep(1)\n",
        "        print('pô')\n",
        "        sleep(1)\n",
        "        print('-=' *13)\n",
        "\n",
        "        print(f'O pc escolheu: {user[pc-1]} ')\n",
        "        print(f'você escolheu: {user[jogador-1]}')\n",
        "        print('-=' *13)\n",
        "\n",
        "    # aqui usaremos estruturas de condições para inserir as possibilidades de jogadas e mostrar os resultados de cada combinação: \n",
        "    \n",
        "        if pc == jogador:\n",
        "            print('empatamos >.< ')\n",
        "        elif ((pc==1 and jogador ==2) or (pc==2 and jogador==3) or (pc==3 and jogador ==1 )): \n",
        "            vitorias += 1\n",
        "            print('Você venceu!')\n",
        "        else:\n",
        "            derrotas +=1\n",
        "            print('você perdeu!')\n",
        "\n",
        "        \n",
        "    # e vai repetir até a pessoa decidir sair e é isto :)"
      ]
    }
  ]
}